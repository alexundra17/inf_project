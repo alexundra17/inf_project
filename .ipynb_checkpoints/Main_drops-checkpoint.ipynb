{
 "cells": [
  {
   "cell_type": "code",
   "execution_count": 2,
   "metadata": {},
   "outputs": [],
   "source": [
    "import numpy as np\n",
    "import matplotlib.pyplot as plt\n",
    "from mpl_toolkits.mplot3d import Axes3D # For 3D Plotting of Systems\n",
    "import pandas as pd\n",
    "from sympy import diff\n",
    "from scipy import integrate\n",
    "import scipy as sp\n",
    "%matplotlib inline"
   ]
  },
  {
   "cell_type": "code",
   "execution_count": 3,
   "metadata": {},
   "outputs": [],
   "source": [
    "def f_int(t, x, z):\n",
    "    a, b, c, d, e, f = np.polyfit(x, z, 5)\n",
    "    return(-t**2 * (5*a*t**4 + 4*b*t**3 + 3*c*t**2 + 2*d*t + e))"
   ]
  },
  {
   "cell_type": "code",
   "execution_count": 4,
   "metadata": {},
   "outputs": [],
   "source": [
    "def volume_calc(x, z):\n",
    "    mi = min(x)\n",
    "    ma = max(x)\n",
    "    v, err = integrate.quad(f_int, mi, ma, args = (x, z))\n",
    "    return np.pi*v\n",
    "    "
   ]
  },
  {
   "cell_type": "code",
   "execution_count": 5,
   "metadata": {},
   "outputs": [],
   "source": [
    "#Runge-Kutta Method Single Time Step\n",
    "def rk4(func, t, a, b, c, dt, b_k):\n",
    "    \"\"\"\n",
    "    Peforms a single time step of the Runge-Kutta 4th Order Method.\n",
    "    The below function finds the ki value for [dx,dy,dz] and return the value to move Yn+1\n",
    "    func is an input of functions, for the Lorenz system this is [dx,dy,dz]\n",
    "     \n",
    "    Recall Rk4 Equations :\n",
    "    k1 = h*f(xn,yn)\n",
    "    k2 = h*f(xn+h/2,yn+k1/2)\n",
    "    k3 = h*f(xn+h/2,yn+k2/2) \n",
    "    k4 = h*f(xn,yn+k3)\n",
    "    Where f is a function [dx,dy,dz]\n",
    "    Yn+1 = Yn + 1/6*(k1+k2+k3+k4)\n",
    "    \"\"\"\n",
    "    \n",
    "    k1, k2, k3, k4 = [], [], [], []\n",
    "    \n",
    "    for f in func:\n",
    "        k1.append(dt*f(t, a, b, c, b_k))\n",
    "        \n",
    "    for f in func:\n",
    "        k2.append(dt*f(t+dt/2, a+k1[0]/2, b+k1[1]/2, c+k1[2]/2, b_k))\n",
    "        \n",
    "    for f in func:\n",
    "        k3.append(dt*f(t+dt/2, a+k2[0]/2, b+k2[1]/2, c+k2[2]/2, b_k))\n",
    "        \n",
    "    for f in func:\n",
    "        k4.append( dt*f(t+dt, a+k3[0], b+k3[1], c+k3[1], b_k))\n",
    "        \n",
    "    k1, k2, k3, k4 = np.array(k1), np.array(k2), np.array(k3), np.array(k4)\n",
    "    \n",
    "    return (1/6)*(k1+2*k2+2*k3+k4)"
   ]
  },
  {
   "cell_type": "code",
   "execution_count": 6,
   "metadata": {},
   "outputs": [],
   "source": [
    "#function, which calculate error for each c value and finds optipal value"
   ]
  },
  {
   "cell_type": "code",
   "execution_count": 7,
   "metadata": {},
   "outputs": [],
   "source": [
    "# Constants \n",
    "\n",
    "# c = 10*1000/0.073\n",
    "\n",
    "\n",
    "#b - radios od curvation \n",
    "#c - capillar const\n",
    "\n",
    "#dx, df, dx for equtions, which determine form of the drop\n",
    "def dx(t, x, fi, z, b):\n",
    "    return np.cos(fi)\n",
    "\n",
    "def dfi(t, x, fi, z, b):\n",
    "    return 2*b-z-np.sin(fi)/(x+1e-5)\n",
    "\n",
    "def dz(t, x, fi, z, b):\n",
    "    return -np.sin(fi)"
   ]
  },
  {
   "cell_type": "code",
   "execution_count": 8,
   "metadata": {},
   "outputs": [],
   "source": [
    "def Laplas(x0, fi0, z0, start_time, time_step, b, t_max):\n",
    "\n",
    "    x, fi, z = [x0], [fi0], [z0] # Start Points\n",
    "    count = 0\n",
    "#     t = start_time or 0 # Start Time\n",
    "#     dt = time_step or 0.01 # Time Step\n",
    "    t = start_time  # Start Time\n",
    "    dt = time_step  # Time Step\n",
    "    \n",
    "    while t < t_max:\n",
    "        t+= dt\n",
    "        tempx, tempfi, tempz = x[count], fi[count], z[count] # Temporary Start Points\n",
    "        func = np.array([dx, dfi, dz])\n",
    "        \n",
    "        runge_kutta_4 = rk4(func, t, tempx, tempfi, tempz, dt, b) # Rk4 Function\n",
    "        \n",
    "        tempx += runge_kutta_4[0]\n",
    "        tempfi += runge_kutta_4[1]\n",
    "        tempz += runge_kutta_4[2]\n",
    "        count +=1\n",
    "        \n",
    "        x.append(tempx)\n",
    "        fi.append(tempfi)\n",
    "        z.append(tempz)  \n",
    "    return x, fi, z"
   ]
  },
  {
   "cell_type": "code",
   "execution_count": 9,
   "metadata": {
    "scrolled": false
   },
   "outputs": [],
   "source": [
    "#adress to Laplas function and then finds the polyfit approximation of the curve \n",
    "def graf(b, t_max):\n",
    "\n",
    "\n",
    "    np.seterr(all='warn')\n",
    "    x, fi, z = Laplas(0, 0, 0, 0, 0.01, b, t_max)\n",
    "\n",
    "    t = np.linspace(0, 1.6, len(z))\n",
    "\n",
    "    a, b, c, d, e, f = np.polyfit(x, z, 5)\n",
    "\n",
    "    xx = np.arange(min(x), max(x), 0.01)\n",
    "    yy = a*xx**5 + b*xx**4 + c*xx**3 + d*xx**2 + e*xx + f\n",
    "\n",
    "#     plt.plot(xx, yy)\n",
    "#     print(V)\n",
    "    return (x, fi, z)\n",
    "\n"
   ]
  },
  {
   "cell_type": "code",
   "execution_count": 10,
   "metadata": {},
   "outputs": [],
   "source": [
    "#finds current angle with diff\n",
    "def angle(x, y):\n",
    "    return np.arctan(np.diff(y)/np.diff(x))"
   ]
  },
  {
   "cell_type": "code",
   "execution_count": 11,
   "metadata": {},
   "outputs": [],
   "source": [
    "#determine contact angle\n",
    "def angl_exp(x1, y1):\n",
    "    ln = len(x1)\n",
    "    atan = np.arctan(diff(y1.loc[ln-10:ln-1])/diff(x1.loc[ln-10:ln-1])).dropna().reset_index(drop=True)\n",
    "    return np.mean(atan), x1.loc[ln-1]/y1.loc[ln-1]"
   ]
  },
  {
   "cell_type": "code",
   "execution_count": 12,
   "metadata": {},
   "outputs": [],
   "source": [
    "#finds x, z, which angle is equal to experimental\n",
    "def finds_angle(agl, experim_angl):\n",
    "    \n",
    "    for i in range(1, len(agl)):\n",
    "        if abs(agl[i])>abs(experim_angl):\n",
    "            return i"
   ]
  },
  {
   "cell_type": "code",
   "execution_count": 13,
   "metadata": {},
   "outputs": [],
   "source": [
    "#returns the index of the last element, before the shape becomes spiral\n",
    "def find_cut_ind(agl):\n",
    "    dif_agl = np.diff(agl)\n",
    "    dt = list(filter(lambda x: x>0, dif_agl))\n",
    "    plt.plot(dif_agl)\n",
    "    a = (list(dif_agl).index(dt[0]))\n",
    "    return a"
   ]
  },
  {
   "cell_type": "code",
   "execution_count": 14,
   "metadata": {},
   "outputs": [],
   "source": [
    "#finds approximate value of b, using coefficient table \n",
    "def finds_b_approx(ct_angl, rat, coef_tbl, acur_rel, acur_rel_xz):\n",
    "    \n",
    "    df_agl = pd.DataFrame()\n",
    "    acur_abs = ct_angl*acur_rel\n",
    "    \n",
    "    for j in range(len(coef_tbl)):\n",
    "        if abs(coef_tbl['angle'].loc[j])<abs(ct_angl+acur_abs) and abs(coef_tbl['angle'].loc[j])>abs(ct_angl-acur_abs):\n",
    "            df_agl = df_agl.append(coef_tbl.loc[j], ignore_index = True)\n",
    "\n",
    "    acur_abs_xz = (acur_rel_xz*rat)\n",
    "    df_fin = pd.DataFrame()\n",
    "    \n",
    "    for j in range(len(df_agl)):\n",
    "        if abs(df_agl['x/z'].loc[j])<abs(rat+acur_abs_xz) and abs(df_agl['x/z'].loc[j])>abs(rat-acur_abs_xz):\n",
    "            df_fin = df_fin.append(df_agl.loc[j], ignore_index = True)\n",
    "    return df_fin"
   ]
  },
  {
   "cell_type": "code",
   "execution_count": 15,
   "metadata": {},
   "outputs": [],
   "source": [
    "#function which normalize experimental data \n",
    "def normalize(x1, y1, z_ap):\n",
    "    x2 = z_ap[len(z_ap)-1]*x1/y1.loc[len(y1)-1]\n",
    "    y2 = z_ap[len(z_ap)-1]*y1/y1.loc[len(y1)-1]\n",
    "    return x2, y2"
   ]
  },
  {
   "cell_type": "code",
   "execution_count": 16,
   "metadata": {},
   "outputs": [],
   "source": [
    "#finds distance between exp and theor curves\n",
    "def distance(b_i, T, x2, y2):\n",
    "    x_ap, fi, z_ap = graf(b_i, T)\n",
    "    \n",
    "   \n",
    "    \n",
    "    x_ap_new =[]\n",
    "    z_ap_new = []\n",
    "    \n",
    "    for j in range(len(x2)):\n",
    "        df_c = []\n",
    "        for i in range(len(x_ap)):\n",
    "            df_c.append(abs(x2[j]-x_ap[i]))\n",
    "        ind = df_c.index(min(df_c))\n",
    "        x_ap_new.append(x_ap[ind])\n",
    "        z_ap_new.append(z_ap[ind])    \n",
    "\n",
    "    dist = []\n",
    "\n",
    "    for n in range(len(x2)):\n",
    "        x2_i = x2[n]\n",
    "        y2_i = y2[n]\n",
    "        x_ap_i = x_ap_new[n]\n",
    "        z_ap_i = z_ap_new[n]\n",
    "        dist_i = ((x_ap_i - x2_i)**2 + (z_ap_i - y2_i)**2)\n",
    "        dist.append(dist_i)\n",
    "\n",
    "    dist_v = sum(dist)/len(dist)\n",
    "    \n",
    "    return dist_v"
   ]
  },
  {
   "cell_type": "code",
   "execution_count": 17,
   "metadata": {},
   "outputs": [],
   "source": [
    "def surf_ten(z_pr, y1):\n",
    "    H_th = max(z_pr) - min(z_pr)\n",
    "    H_exp = 0.000788\n",
    "    c = (H_th/H_exp)**2\n",
    "    return 10**4/c"
   ]
  },
  {
   "cell_type": "code",
   "execution_count": 20,
   "metadata": {},
   "outputs": [
    {
     "data": {
      "text/plain": [
       "(0, 0.9)"
      ]
     },
     "execution_count": 20,
     "metadata": {},
     "output_type": "execute_result"
    },
    {
     "data": {
      "image/png": "[encoded data removed]",
      "text/plain": [
       "<Figure size 432x288 with 1 Axes>"
      ]
     },
     "metadata": {
      "needs_background": "light"
     },
     "output_type": "display_data"
    }
   ],
   "source": [
    "#main function, which adress to other functions and receive the x, z and fi\n",
    "\n",
    "b = 10\n",
    "t_max = 1.2\n",
    "x, fi, z = graf(b, t_max)\n",
    "\n",
    "\n",
    "agl = angle(x, z)\n",
    "fig = plt.figure()\n",
    "ax = fig.add_subplot(111)\n",
    "plt.plot(x, z)\n",
    "\n",
    "plt.title(\"Numerical solution of Laplase equation\")\n",
    "plt.xlabel(\"x\")\n",
    "plt.ylabel(\"z\")\n",
    "plt.grid(linewidth = 0.35)\n",
    "ax.set_aspect('equal', adjustable='box')\n",
    "\n",
    "plt.xlim(-0.9, 0)\n",
    "plt.xlim(0, 0.9)\n",
    "# plt.figure()\n",
    "# plt.plot(x[0:-1], -agl*180/np.pi)\n"
   ]
  },
  {
   "cell_type": "code",
   "execution_count": 18,
   "metadata": {},
   "outputs": [],
   "source": [
    "# start"
   ]
  },
  {
   "cell_type": "code",
   "execution_count": 31,
   "metadata": {
    "scrolled": false
   },
   "outputs": [
    {
     "name": "stdout",
     "output_type": "stream",
     "text": [
      "     Unnamed: 0    x  y\n",
      "0             0 -181 -8\n",
      "1             1 -180 -9\n",
      "2             2 -179 -9\n",
      "3             3 -178 -9\n",
      "4             4 -177 -9\n",
      "..          ...  ... ..\n",
      "861         861 -186 -8\n",
      "862         862 -185 -8\n",
      "863         863 -184 -8\n",
      "864         864 -183 -8\n",
      "865         865 -182 -8\n",
      "\n",
      "[866 rows x 3 columns]\n",
      "85.0\n",
      "-1.448\n"
     ]
    },
    {
     "data": {
      "text/plain": [
       "[<matplotlib.lines.Line2D at 0x23920008d88>]"
      ]
     },
     "execution_count": 31,
     "metadata": {},
     "output_type": "execute_result"
    },
    {
     "data": {
      "image/png": "[encoded data removed]",
      "text/plain": [
       "<Figure size 432x288 with 1 Axes>"
      ]
     },
     "metadata": {
      "needs_background": "light"
     },
     "output_type": "display_data"
    }
   ],
   "source": [
    "#Import exp data from file, plot graf and determine contact angle\n",
    "\n",
    "Val_int = 200\n",
    "Val = str(Val_int)\n",
    "\n",
    "Mat = \"Glyc\"\n",
    "Add = \"alc\"\n",
    "Per = \"2\"\n",
    "Att = \"3\"\n",
    "\n",
    "Tem_int = 23\n",
    "Tem = str(Tem_int)\n",
    "\n",
    "name = Val+ \"_\" + Mat + \"_\" + Add + \"_\" +Per + \"_\" + Att + \"_\" + Tem\n",
    "\n",
    "\n",
    "\n",
    "# h = pd.read_csv(name + '.csv')\n",
    "\n",
    "h = pd.read_csv('100_glic_alc_0_1_23.csv')\n",
    "\n",
    "h['x'] = -h['x']\n",
    "h['y'] = -h['y']\n",
    "\n",
    "print(h)\n",
    "\n",
    "# h['x'] = h['x'] - h['x'].loc[28]\n",
    "# h['y'] = h['y'] - h['y'].loc[28]\n",
    "\n",
    "# x1 = h['x'].loc[28:37].reset_index(drop=True)\n",
    "# y1 = h['y'].loc[28:37].reset_index(drop=True)\n",
    "\n",
    "mn = min(h['y'])\n",
    "df2 = h[h['y']>mn].reset_index(drop=True)\n",
    "\n",
    "ln = len(df2)\n",
    "\n",
    "cut_num = ln//2-20\n",
    "\n",
    "x1 = df2['x'].loc[0:cut_num].reset_index(drop=True) - df2['x'].loc[0]\n",
    "y1 = df2['y'].loc[0:cut_num].reset_index(drop=True) - df2['y'].loc[0]\n",
    "\n",
    "\n",
    "# plt.plot(x1, y1, marker = '*')\n",
    "\n",
    "ct_angl, rat = angl_exp(x1, y1)\n",
    "print(-ct_angl*180/np.pi)\n",
    "print(rat)\n",
    "# plt.plot(x, z)\n",
    "\n",
    "plt.plot(x1, y1, linewidth = 0, marker = \"*\")\n"
   ]
  },
  {
   "cell_type": "code",
   "execution_count": 32,
   "metadata": {},
   "outputs": [
    {
     "name": "stdout",
     "output_type": "stream",
     "text": [
      "   T_max  Unnamed: 0     angle    b       x/z\n",
      "0   1.95      1695.0 -1.480644  0.5 -1.441988\n"
     ]
    }
   ],
   "source": [
    "#import coefficient table and adress to function, which finds b\n",
    "\n",
    "\n",
    "coef_tbl = pd.read_csv('coef.csv')\n",
    "acur_rel = 0.01\n",
    "acur_rel_xz = 0.005\n",
    "df_approx = finds_b_approx(ct_angl, rat, coef_tbl, acur_rel, acur_rel_xz)\n",
    "\n",
    "print(df_approx)\n"
   ]
  },
  {
   "cell_type": "code",
   "execution_count": 24,
   "metadata": {},
   "outputs": [
    {
     "name": "stdout",
     "output_type": "stream",
     "text": [
      "   T_max  Unnamed: 0     angle    b       x/z\n",
      "0   1.95      1695.0 -1.480644  0.5 -1.441988\n",
      "       dist    b\n",
      "0  0.000478  0.5\n"
     ]
    }
   ],
   "source": [
    "#finds optimized value of b\n",
    "\n",
    "print(df_approx)\n",
    "B_ap = float(df_approx['b'].loc[0])\n",
    "T_ap = float(df_approx['T_max'].loc[0])\n",
    "x_ap, f_ap, z_ap = graf(B_ap, T_ap)\n",
    "\n",
    "\n",
    "x2, y2 = normalize(x1, y1, z_ap)\n",
    "dist_v = distance(B_ap, T_ap, x2, y2)\n",
    "\n",
    "x2_inter = np.linspace(min(x2), max(x2), len(x_ap))\n",
    "y2_inter = np.interp(x2_inter, x2, y2)\n",
    "\n",
    "step = 0.01\n",
    "dev = 0.1\n",
    "B_arr = np.arange(B_ap-dev, B_ap+dev, step)\n",
    "\n",
    "dist_res = pd.DataFrame()\n",
    "\n",
    "for b_i in B_arr:\n",
    "    dist_v_i = distance(b_i, T_ap, x2, y2)\n",
    "    dist_res_i = pd.DataFrame()\n",
    "    dist_res_i['dist'] = [dist_v_i]\n",
    "    dist_res_i['b'] = [b_i]\n",
    "    dist_res = dist_res.append(dist_res_i)\n",
    "\n",
    "min_dist = dist_res[dist_res['dist'] == min(dist_res['dist'])]\n",
    "print(min_dist)\n",
    "B_pr = min_dist['b'].loc[0]\n"
   ]
  },
  {
   "cell_type": "code",
   "execution_count": 25,
   "metadata": {
    "scrolled": true
   },
   "outputs": [
    {
     "name": "stdout",
     "output_type": "stream",
     "text": [
      "-1.4419878065430716\n",
      "4.086362289452972\n"
     ]
    },
    {
     "data": {
      "image/png": "[encoded data removed]",
      "text/plain": [
       "<Figure size 432x288 with 1 Axes>"
      ]
     },
     "metadata": {
      "needs_background": "light"
     },
     "output_type": "display_data"
    }
   ],
   "source": [
    "#plotting exp and theor curves\n",
    "\n",
    "x_pr, f_pr, z_pr = graf(B_pr, T_ap)\n",
    "\n",
    "V = volume_calc(x_pr, z_pr)\n",
    "\n",
    "plt.plot(x_pr, z_pr, label = \"Precise value of b = 0.503\")\n",
    "\n",
    "plt.plot(x_ap, z_ap, label = \"Approximate value of b = 0.5\")\n",
    "plt.plot(x2, y2, label = \"Experimental shape\")\n",
    "plt.grid(linewidth = 0.75)\n",
    "\n",
    "\n",
    "\n",
    "plt.legend()\n",
    "plt.xlabel('x, a.u')\n",
    "plt.ylabel('z, a.u')\n",
    "plt.title('Shape of the drop for glycerol')\n",
    "print(x_pr[len(x_pr)-1]/z_pr[len(z_pr)-1])\n",
    "\n",
    "print(V)"
   ]
  },
  {
   "cell_type": "code",
   "execution_count": 26,
   "metadata": {},
   "outputs": [],
   "source": [
    "#constants\n",
    "po = 1260\n",
    "c = (Val_int*1e-9/V)**(-2/3)"
   ]
  },
  {
   "cell_type": "code",
   "execution_count": 27,
   "metadata": {},
   "outputs": [],
   "source": [
    "df_output = pd.DataFrame()\n",
    "df_output[\"Main_Material\"] = [Mat]\n",
    "df_output[\"Main_Value\"] =[Val]\n",
    "df_output[\"Addition_Material\"] = [Add]\n",
    "df_output[\"Percent_of_Addition_Material\"] =[ Per]\n",
    "df_output[\"Attempt\"] = [Att]\n",
    "df_output[\"Temperature\"] = [Tem_int]\n",
    "df_output[\"x/z\"] = [rat]\n",
    "df_output[\"angle\"] = [ct_angl]\n",
    "df_output[\"b\"] =[ B_pr]\n",
    "df_output[\"Value\"] = [V]\n",
    "df_output[\"cap_const\"] = [c]\n",
    "df_output[\"sigma\"] = [9.81*po/c]"
   ]
  },
  {
   "cell_type": "code",
   "execution_count": 28,
   "metadata": {},
   "outputs": [],
   "source": [
    "name_2 = name + \"_\" + \"output\"\n",
    "\n",
    "\n",
    "df_output.to_csv(name_2 + \".csv\")"
   ]
  },
  {
   "cell_type": "code",
   "execution_count": 29,
   "metadata": {},
   "outputs": [],
   "source": [
    "# stop"
   ]
  },
  {
   "cell_type": "code",
   "execution_count": 30,
   "metadata": {
    "scrolled": false
   },
   "outputs": [
    {
     "name": "stdout",
     "output_type": "stream",
     "text": [
      "88.9652785360599\n",
      "85.0\n",
      "-1.0708117700282747\n"
     ]
    },
    {
     "data": {
      "image/png": "[encoded data removed]",
      "text/plain": [
       "<Figure size 432x288 with 1 Axes>"
      ]
     },
     "metadata": {
      "needs_background": "light"
     },
     "output_type": "display_data"
    },
    {
     "data": {
      "image/png": "[encoded data removed]",
      "text/plain": [
       "<Figure size 432x288 with 1 Axes>"
      ]
     },
     "metadata": {
      "needs_background": "light"
     },
     "output_type": "display_data"
    },
    {
     "data": {
      "image/png": "[encoded data removed]",
      "text/plain": [
       "<Figure size 432x288 with 1 Axes>"
      ]
     },
     "metadata": {
      "needs_background": "light"
     },
     "output_type": "display_data"
    }
   ],
   "source": [
    "#plotting curve with point, denote the contact angle and cut curve \n",
    "\n",
    "\n",
    "ind = finds_angle(agl, ct_angl)\n",
    "\n",
    "\n",
    "\n",
    "print(-agl[ind]*180/np.pi)\n",
    "print(-ct_angl*180/np.pi)\n",
    "\n",
    "plt.figure()\n",
    "plt.plot(x, z)\n",
    "plt.plot(x[ind], z[ind], marker = '*', label = \"cutoff point\")\n",
    "\n",
    "plt.title(\"Numerical solution of Laplase equation\")\n",
    "plt.xlabel(\"x\")\n",
    "plt.ylabel(\"z\")\n",
    "plt.legend()\n",
    "\n",
    "x_cut = x[0:ind]\n",
    "z_cut = z[0:ind]\n",
    "agl_cut = agl[0:ind]\n",
    "\n",
    "plt.figure()\n",
    "plt.plot(x_cut, z_cut)\n",
    "plt.title(\"Numerical solution of Laplase equation (cut)\")\n",
    "plt.xlabel(\"x\")\n",
    "plt.ylabel(\"z\")\n",
    "plt.grid(linewidth = 0.35)\n",
    "\n",
    "plt.figure()\n",
    "plt.plot(x_cut, -agl_cut*180/np.pi)\n",
    "\n",
    "print(x[ind]/z[ind])"
   ]
  },
  {
   "cell_type": "code",
   "execution_count": 424,
   "metadata": {},
   "outputs": [
    {
     "name": "stdout",
     "output_type": "stream",
     "text": [
      "-0.9599310885968811\n"
     ]
    }
   ],
   "source": [
    "print(ct_angl)"
   ]
  }
 ],
 "metadata": {
  "kernelspec": {
   "display_name": "Python 3",
   "language": "python",
   "name": "python3"
  },
  "language_info": {
   "codemirror_mode": {
    "name": "ipython",
    "version": 3
   },
   "file_extension": ".py",
   "mimetype": "text/x-python",
   "name": "python",
   "nbconvert_exporter": "python",
   "pygments_lexer": "ipython3",
   "version": "3.7.6"
  }
 },
 "nbformat": 4,
 "nbformat_minor": 4
}
